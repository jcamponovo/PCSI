{
 "cells": [
  {
   "cell_type": "code",
   "execution_count": 5,
   "metadata": {},
   "outputs": [],
   "source": [
    "import matplotlib.pyplot as plt\n",
    "import matplotlib.animation as animation\n",
    "from ipywidgets import interact, widgets, Button\n",
    "from math import pi,cos"
   ]
  },
  {
   "cell_type": "code",
   "execution_count": 6,
   "metadata": {},
   "outputs": [],
   "source": [
    "%matplotlib notebook"
   ]
  },
  {
   "cell_type": "code",
   "execution_count": 2,
   "metadata": {},
   "outputs": [
    {
     "ename": "NameError",
     "evalue": "name 'plt' is not defined",
     "output_type": "error",
     "traceback": [
      "\u001b[0;31m---------------------------------------------------------------------------\u001b[0m",
      "\u001b[0;31mNameError\u001b[0m                                 Traceback (most recent call last)",
      "\u001b[0;32m<ipython-input-2-3d3d2058e0f7>\u001b[0m in \u001b[0;36m<module>\u001b[0;34m\u001b[0m\n\u001b[1;32m      3\u001b[0m \u001b[0;34m\u001b[0m\u001b[0m\n\u001b[1;32m      4\u001b[0m \u001b[0;31m#On crée la figure une fois puis on la modifie régulièrement dans le temps\u001b[0m\u001b[0;34m\u001b[0m\u001b[0;34m\u001b[0m\u001b[0;34m\u001b[0m\u001b[0m\n\u001b[0;32m----> 5\u001b[0;31m \u001b[0mfig\u001b[0m \u001b[0;34m=\u001b[0m \u001b[0mplt\u001b[0m\u001b[0;34m.\u001b[0m\u001b[0mfigure\u001b[0m\u001b[0;34m(\u001b[0m\u001b[0;34m\"Essai 1\"\u001b[0m\u001b[0;34m)\u001b[0m\u001b[0;34m\u001b[0m\u001b[0;34m\u001b[0m\u001b[0m\n\u001b[0m\u001b[1;32m      6\u001b[0m \u001b[0max1\u001b[0m \u001b[0;34m=\u001b[0m \u001b[0mfig\u001b[0m\u001b[0;34m.\u001b[0m\u001b[0madd_subplot\u001b[0m\u001b[0;34m(\u001b[0m\u001b[0;36m1\u001b[0m\u001b[0;34m,\u001b[0m\u001b[0;36m1\u001b[0m\u001b[0;34m,\u001b[0m\u001b[0;36m1\u001b[0m\u001b[0;34m)\u001b[0m\u001b[0;34m\u001b[0m\u001b[0;34m\u001b[0m\u001b[0m\n\u001b[1;32m      7\u001b[0m \u001b[0max1\u001b[0m\u001b[0;34m.\u001b[0m\u001b[0mset_xlim\u001b[0m\u001b[0;34m(\u001b[0m\u001b[0;36m0\u001b[0m\u001b[0;34m,\u001b[0m\u001b[0;36m3\u001b[0m\u001b[0;34m)\u001b[0m\u001b[0;34m\u001b[0m\u001b[0;34m\u001b[0m\u001b[0m\n",
      "\u001b[0;31mNameError\u001b[0m: name 'plt' is not defined"
     ]
    }
   ],
   "source": [
    "#Création de la liste des valeurs de x\n",
    "\n",
    "\n",
    "#On crée la figure une fois puis on la modifie régulièrement dans le temps\n",
    "fig = plt.figure(\"Essai 1\")\n",
    "ax1 = fig.add_subplot(1,1,1)\n",
    "ax1.set_xlim(0,3)\n",
    "ax1.set_ylim(-1.1,1.4)\n",
    "fig.show()\n",
    "\n",
    "xmax=3.\n",
    "x=[i*xmax/3000. for i in range(3000)]\n",
    "\n",
    "c = 340\n",
    "ig = 0\n",
    "ir = 0\n",
    "T = 0.001\n",
    "dt = 0.0001\n",
    "\n",
    "@interact(celerite=(200,600,40))  \n",
    "def defC(celerite=340):\n",
    "    global c,ig,ir\n",
    "    c = celerite\n",
    "    ig=500\n",
    "    ir=500\n",
    "\n",
    "defC()\n",
    "\n",
    "@interact(frequence = (200,2000,100))\n",
    "def defT(frequence=1000):\n",
    "    global T,dt,ig,ir\n",
    "    ig=500\n",
    "    ir=500\n",
    "    T = 1/frequence\n",
    "    dt = T/10.\n",
    "\n",
    "defT()\n",
    "\n",
    "\n",
    "def f(x,t,c,T):\n",
    "    return cos(2*pi*(t/T-x/(c*T)))\n",
    "\n",
    "    \n",
    "def anime(i):\n",
    "    global c,T,dt,xmax,ig,ir,x,ax1,fig  \n",
    "    if ir > i:\n",
    "        ir = i\n",
    "        ig = i\n",
    "       \n",
    " \n",
    "    #Création de la liste des valeurs de y à l'instant i*dt\n",
    "    y=[]\n",
    "    for j in range(3000):\n",
    "        y.append(f(x[j],i*dt,c,T))\n",
    "\n",
    "    #On efface le graphique précédent\n",
    "    ax1.clear() \n",
    "    ax1.set_xlim(0,xmax)\n",
    "    ax1.set_ylim(-1.1,1.4)\n",
    "    #On trace le nouveau graphique\n",
    "    ax1.plot(x,y,\"blue\",label=\"t = {:.3f}s\".format(i*dt))\n",
    "    \n",
    "    #Si le point rouge sort de l'écran, il repart à gauche et on synchronise avec le vert\n",
    "    if c*(i-ir)*dt>xmax:\n",
    "        ir=i\n",
    "        ig=ir\n",
    "\n",
    "    #On trace les points\n",
    "    ax1.plot([c*(i-ir)*dt],[f(c*(i-ir)*dt,i*dt,c,T)],\"o\",color=\"red\")\n",
    "    if c*(i-ig)*dt+c*T<xmax:\n",
    "        ax1.plot([c*(i-ig)*dt+c*T],[f(c*(i-ig)*dt+c*T,i*dt,c,T)],\"o\",color=\"green\")\n",
    "\n",
    "    #On ajoute la légende et la grandeur sur l'axe des abscisses\n",
    "    ax1.legend(loc='upper right',framealpha=1.)\n",
    "    ax1.set_xlabel(\"distance (m)\")\n",
    "\n",
    "for i in range(200):\n",
    "    anime(i)\n",
    "    #simulation=animation.FuncAnimation(fig,anime,interval=50,frames=200) #appelle la fonction anime toutes les 50 ms avec un indice i de plus en plus grand\n",
    "\n",
    "\n"
   ]
  }
 ],
 "metadata": {
  "kernelspec": {
   "display_name": "Python 3",
   "language": "python",
   "name": "python3"
  },
  "language_info": {
   "codemirror_mode": {
    "name": "ipython",
    "version": 3
   },
   "file_extension": ".py",
   "mimetype": "text/x-python",
   "name": "python",
   "nbconvert_exporter": "python",
   "pygments_lexer": "ipython3",
   "version": "3.7.3"
  },
  "varInspector": {
   "cols": {
    "lenName": 16,
    "lenType": 16,
    "lenVar": 40
   },
   "kernels_config": {
    "python": {
     "delete_cmd_postfix": "",
     "delete_cmd_prefix": "del ",
     "library": "var_list.py",
     "varRefreshCmd": "print(var_dic_list())"
    },
    "r": {
     "delete_cmd_postfix": ") ",
     "delete_cmd_prefix": "rm(",
     "library": "var_list.r",
     "varRefreshCmd": "cat(var_dic_list()) "
    }
   },
   "types_to_exclude": [
    "module",
    "function",
    "builtin_function_or_method",
    "instance",
    "_Feature"
   ],
   "window_display": false
  }
 },
 "nbformat": 4,
 "nbformat_minor": 2
}
